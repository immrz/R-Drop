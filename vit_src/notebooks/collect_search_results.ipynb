{
 "cells": [
  {
   "cell_type": "code",
   "execution_count": 1,
   "id": "84e36070",
   "metadata": {},
   "outputs": [],
   "source": [
    "import os\n",
    "os.chdir(\"/home/v-runmao/projects/R-Drop/vit_src/amlt/results/\")"
   ]
  },
  {
   "cell_type": "code",
   "execution_count": 2,
   "id": "0ab15895",
   "metadata": {},
   "outputs": [],
   "source": [
    "import re\n",
    "import numpy as np\n",
    "import matplotlib.pyplot as plt\n",
    "import pandas as pd"
   ]
  },
  {
   "cell_type": "code",
   "execution_count": 30,
   "id": "fa69b056",
   "metadata": {},
   "outputs": [],
   "source": [
    "def parse_ab_from_job_name(name, pat=None):\n",
    "    if pat is None:  # default: parse `a` and `b`\n",
    "        pat = \"a([\\d.]*\\d+)b([\\d.]*\\d+)\"\n",
    "    matches = re.findall(pat, name)\n",
    "    assert len(matches) == 1\n",
    "    a, b = matches[0]\n",
    "    a, b = float(a), float(b)\n",
    "    return a, b\n",
    "\n",
    "\n",
    "def get_best_valid_acc(log_file):\n",
    "    acc = []\n",
    "    s = \"Valid Accuracy\"\n",
    "    with open(log_file, \"r\") as fi:\n",
    "        for line in fi:\n",
    "            if s not in line:\n",
    "                continue\n",
    "            matches = re.findall(f\"{s}: (0\\.\\d+)\", line)\n",
    "            assert len(matches) == 1\n",
    "            acc.append(float(matches[0]))\n",
    "    \n",
    "    if len(acc) == 0:\n",
    "        with open(log_file, \"r\") as fi:\n",
    "            for line in fi:\n",
    "                if \"Best Accuracy\" not in line:\n",
    "                    continue\n",
    "                matches = re.findall(\"Best Accuracy:\\s*([\\d.]*\\d+)\", line)\n",
    "                try:\n",
    "                    assert len(matches) > 0\n",
    "                except:\n",
    "                    print(line)\n",
    "                    raise\n",
    "                acc.extend([float(m) for m in matches])\n",
    "                \n",
    "    return max(acc) if len(acc) > 0 else 0\n",
    "\n",
    "\n",
    "def get_sorted_jobs(root, job_filter=None, re_pat=None):\n",
    "    all_jobs = os.listdir(root)\n",
    "    results = []\n",
    "    avoid_dup = set()\n",
    "    for j in all_jobs:\n",
    "        if job_filter is not None and not job_filter(j):\n",
    "            continue\n",
    "        a, b = parse_ab_from_job_name(j, pat=re_pat)\n",
    "        \n",
    "        if (a, b) in avoid_dup:\n",
    "            raise RuntimeError\n",
    "        avoid_dup.add((a, b))\n",
    "        \n",
    "        acc = get_best_valid_acc(os.path.join(root, j, \"stdout.txt\"))\n",
    "        results.append([(a, b), acc])\n",
    "    return sorted(results, key=lambda x: x[1], reverse=True)\n",
    "\n",
    "\n",
    "def display_jobs(root, res=None):\n",
    "    if res is None:\n",
    "        res = []\n",
    "    for j in os.listdir(root):\n",
    "        acc = get_best_valid_acc(os.path.join(root, j, \"stdout.txt\"))\n",
    "        res.append((j, acc))\n",
    "    display(sorted(res, key=lambda x: x[1], reverse=True))\n",
    "\n",
    "\n",
    "def vis_heat_map_ab(job_results):\n",
    "    ab, acc = zip(*job_results)\n",
    "    a, b = zip(*ab)\n",
    "    \n",
    "    # get rank of alpha and betas => get integers\n",
    "    x = pd.Series(a).rank(method=\"dense\").values.astype(np.int32) - 1\n",
    "    y = pd.Series(b).rank(method=\"dense\").values.astype(np.int32) - 1\n",
    "    acc = np.array(acc)\n",
    "    \n",
    "    # create heat map\n",
    "    arr = np.zeros((x.max() + 1, y.max() + 1))\n",
    "    arr[x, y] = acc\n",
    "    \n",
    "    # visualize\n",
    "    fig, ax = plt.subplots(figsize=(12, 9))\n",
    "    ax.imshow(arr)\n",
    "    ax.set_xlabel(\"beta\")\n",
    "    ax.set_ylabel(\"alpha\")\n",
    "    all_alpha = np.sort(np.unique(a))\n",
    "    all_beta = np.sort(np.unique(b))\n",
    "    ax.set_xticks(range(len(all_beta)))\n",
    "    ax.set_xticklabels(all_beta)\n",
    "    ax.set_yticks(range(len(all_alpha)))\n",
    "    ax.set_yticklabels(all_alpha)\n",
    "    \n",
    "    # set text\n",
    "    for i in range(len(all_alpha)):\n",
    "        for j in range(len(all_beta)):\n",
    "            text = ax.text(j, i, arr[i, j], ha=\"center\", va=\"center\", color=\"r\")\n",
    "    return ax"
   ]
  },
  {
   "cell_type": "markdown",
   "id": "41e3a173",
   "metadata": {},
   "source": [
    "# with Rand Augment"
   ]
  },
  {
   "cell_type": "code",
   "execution_count": 112,
   "id": "551576f7",
   "metadata": {},
   "outputs": [],
   "source": [
    "# job_res = get_sorted_jobs(\"ViTB16_search/\",\n",
    "#                           job_filter=lambda j: \"RA\" in j)\n",
    "\n",
    "# _ = vis_heat_map_ab(job_res)"
   ]
  },
  {
   "cell_type": "markdown",
   "id": "c645a1c8",
   "metadata": {},
   "source": [
    "# without Rand Augment"
   ]
  },
  {
   "cell_type": "code",
   "execution_count": 119,
   "id": "6fc533cc",
   "metadata": {},
   "outputs": [
    {
     "data": {
      "image/png": "[encoded data removed]",
      "text/plain": [
       "<Figure size 864x648 with 1 Axes>"
      ]
     },
     "metadata": {
      "needs_background": "light"
     },
     "output_type": "display_data"
    }
   ],
   "source": [
    "job_res = get_sorted_jobs(\"ViTB16_search/\",\n",
    "                          job_filter=lambda j: \"RA\" not in j)\n",
    "\n",
    "_ = vis_heat_map_ab(job_res)"
   ]
  },
  {
   "cell_type": "markdown",
   "id": "cee9679d",
   "metadata": {},
   "source": [
    "# compare different augs"
   ]
  },
  {
   "cell_type": "code",
   "execution_count": 114,
   "id": "7341238a",
   "metadata": {},
   "outputs": [],
   "source": [
    "# all_res = []\n",
    "# for j in os.listdir(\"ViTB16_aug/\"):\n",
    "#     acc = get_best_valid_acc(os.path.join(\"ViTB16_aug\", j, \"stdout.txt\"))\n",
    "#     all_res.append((j, acc))\n",
    "    \n",
    "# display(sorted(all_res, key=lambda x: x[1], reverse=True))"
   ]
  },
  {
   "cell_type": "markdown",
   "id": "9bd0a8aa",
   "metadata": {},
   "source": [
    "# search learning rate and $\\alpha$"
   ]
  },
  {
   "cell_type": "code",
   "execution_count": 108,
   "id": "c2884792",
   "metadata": {},
   "outputs": [],
   "source": [
    "# job_res = get_sorted_jobs(\"ViTB16_search_lr/\", re_pat=\"a([\\d.]*\\d+)b1lr([\\d.]*\\d+)\")\n",
    "\n",
    "# ax = vis_heat_map_ab(job_res)\n",
    "# ax.set_xlabel(\"lr\")"
   ]
  },
  {
   "cell_type": "markdown",
   "id": "e1cfc82f",
   "metadata": {},
   "source": [
    "# Search $\\alpha$ and $\\beta$ (new version)"
   ]
  },
  {
   "cell_type": "code",
   "execution_count": 45,
   "id": "0b9a06fd",
   "metadata": {},
   "outputs": [
    {
     "data": {
      "text/plain": [
       "[('a1b0.1', 0.9345),\n",
       " ('a1b0.15', 0.9342),\n",
       " ('a1b0.05', 0.9342),\n",
       " ('a1.5b0.1', 0.9341),\n",
       " ('a1.5b0.075', 0.934),\n",
       " ('a1b0.075', 0.934),\n",
       " ('a1b0.025', 0.9339),\n",
       " ('a0.5b0.025', 0.9336),\n",
       " ('a1b0.125', 0.9335),\n",
       " ('a1.5b0.15', 0.9333),\n",
       " ('a1b0.01', 0.9333),\n",
       " ('a0.5b0.05', 0.9333),\n",
       " ('a1.5b0.125', 0.9332),\n",
       " ('a0.5b0.01', 0.9325),\n",
       " ('a0.3b0.01', 0.9325),\n",
       " ('rdropDA__a0.5_b0.025_koi', 0.9323),\n",
       " ('a0.3b0.05', 0.9269)]"
      ]
     },
     "metadata": {},
     "output_type": "display_data"
    }
   ],
   "source": [
    "display_jobs(\"ViTB16_newsearch/\", res=[(\"a0.5b0.025\", 0.9336)])"
   ]
  },
  {
   "cell_type": "code",
   "execution_count": 46,
   "id": "61683613",
   "metadata": {},
   "outputs": [
    {
     "data": {
      "image/png": "[encoded data removed]",
      "text/plain": [
       "<Figure size 864x648 with 1 Axes>"
      ]
     },
     "metadata": {
      "needs_background": "light"
     },
     "output_type": "display_data"
    }
   ],
   "source": [
    "job_res = get_sorted_jobs(\"ViTB16_newsearch/\",\n",
    "                          job_filter=lambda j: \"koi\" not in j)\n",
    "\n",
    "_ = vis_heat_map_ab(job_res)"
   ]
  },
  {
   "cell_type": "markdown",
   "id": "de0b0abc",
   "metadata": {},
   "source": [
    "# ViTB16 384x384 resolution"
   ]
  },
  {
   "cell_type": "code",
   "execution_count": 33,
   "id": "f4cbc81c",
   "metadata": {},
   "outputs": [
    {
     "data": {
      "text/plain": [
       "[('a1b0.05_seed682', 0.927),\n",
       " ('a1b0.05_seed42', 0.9267),\n",
       " ('a0.5b0.05_seed682', 0.9262),\n",
       " ('a1b0.05_seed10', 0.9034),\n",
       " ('reso224', 0)]"
      ]
     },
     "metadata": {},
     "output_type": "display_data"
    }
   ],
   "source": [
    "display_jobs(\"ViTB16_384\")"
   ]
  },
  {
   "cell_type": "markdown",
   "id": "58ebb881",
   "metadata": {},
   "source": [
    "# WRN stochastic depth"
   ]
  },
  {
   "cell_type": "code",
   "execution_count": 36,
   "id": "d2bd1b6e",
   "metadata": {},
   "outputs": [
    {
     "data": {
      "text/plain": [
       "[('sd0.9', 0.8168),\n",
       " ('baseline', 0.8118),\n",
       " ('sd0.8', 0.807),\n",
       " ('sd0.95', 0.799),\n",
       " ('sd0.7', 0.7983),\n",
       " ('sd0.6', 0.7888),\n",
       " ('sd0.5', 0.781)]"
      ]
     },
     "metadata": {},
     "output_type": "display_data"
    }
   ],
   "source": [
    "display_jobs(\"WRN_sd/\", res=[(\"sd0.8\", 0.807), (\"baseline\", 0.8118)])"
   ]
  },
  {
   "cell_type": "markdown",
   "id": "980c8dbc",
   "metadata": {},
   "source": [
    "# WRN rdrop"
   ]
  },
  {
   "cell_type": "code",
   "execution_count": 37,
   "id": "d8e9704f",
   "metadata": {},
   "outputs": [
    {
     "data": {
      "text/plain": [
       "[('alpha2', 0.8172),\n",
       " ('alpha1', 0.8168),\n",
       " ('alpha3', 0.8162),\n",
       " ('alpha5', 0.8158),\n",
       " ('alpha6', 0.8156),\n",
       " ('alpha4', 0.8154)]"
      ]
     },
     "metadata": {},
     "output_type": "display_data"
    }
   ],
   "source": [
    "display_jobs(\"WRN_rdrop/\")"
   ]
  },
  {
   "cell_type": "markdown",
   "id": "9097423a",
   "metadata": {},
   "source": [
    "# Image Net"
   ]
  },
  {
   "cell_type": "code",
   "execution_count": 82,
   "id": "70610496",
   "metadata": {},
   "outputs": [
    {
     "data": {
      "text/plain": [
       "[('vitb16_i1k_rdropDA_a0.5b0.1', 0.81972),\n",
       " ('vitb16_i1k_rdropDA_a1b0.1', 0.81902),\n",
       " ('vitb16_i1k_rdropDA_a0.5b0.5', 0.819),\n",
       " ('vitb16_i1k_rdropDA_a1b0.5', 0.8187),\n",
       " ('rdrop_a0.6', 0.8179),\n",
       " ('vitb16_i1k_rdropDA_a0.3b1', 0.81636),\n",
       " ('vitb16_i1k_rdropDA_a1b1', 0.81618),\n",
       " ('baseline', 0.81604)]"
      ]
     },
     "metadata": {},
     "output_type": "display_data"
    }
   ],
   "source": [
    "display_jobs(\"ViTB16_i1k\")"
   ]
  },
  {
   "cell_type": "markdown",
   "id": "24255687",
   "metadata": {},
   "source": [
    "# Resnet110"
   ]
  },
  {
   "cell_type": "markdown",
   "id": "449a5314",
   "metadata": {},
   "source": [
    "## search alpha and beta"
   ]
  },
  {
   "cell_type": "code",
   "execution_count": 60,
   "id": "a6cb9cc1",
   "metadata": {},
   "outputs": [
    {
     "data": {
      "text/plain": [
       "[('a0.3b1.5', 0.7784),\n",
       " ('a0.3b1', 0.7762),\n",
       " ('a1b1', 0.7759),\n",
       " ('a0.3b1.25', 0.7755),\n",
       " ('a0.5b1', 0.7745),\n",
       " ('a0.1b1', 0.7726),\n",
       " ('a0.3b0.5', 0.7705),\n",
       " ('a1b0.5', 0.7692),\n",
       " ('a1b0.1', 0.7687),\n",
       " ('a2b0.5', 0.7681),\n",
       " ('a0.5b0.1', 0.7642),\n",
       " ('a2b1', 0.7627),\n",
       " ('a2b0.1', 0.758),\n",
       " ('a0.1b0.5', 0.7424)]"
      ]
     },
     "metadata": {},
     "output_type": "display_data"
    }
   ],
   "source": [
    "display_jobs(\"R110_search\")"
   ]
  },
  {
   "cell_type": "markdown",
   "id": "2263a911",
   "metadata": {},
   "source": [
    "## logit / prob"
   ]
  },
  {
   "cell_type": "code",
   "execution_count": 71,
   "id": "82c881d2",
   "metadata": {},
   "outputs": [
    {
     "data": {
      "text/plain": [
       "[('a0.5b0.5_ml2_dkl_randselect', 0.7883),\n",
       " ('a0.5b0.5_mkl_dl2_randselect', 0.7796),\n",
       " ('a0.5b0.5_ml2_dl2_randselect', 0.774),\n",
       " ('a0.3b1_ml2_dkl', 0.7692),\n",
       " ('a0.3b1_mkl_dl2', 0.7582),\n",
       " ('a0.3b1_ml2_dl2', 0.7567),\n",
       " ('a0.3b1_m-l2_d-kl', 0.6778),\n",
       " ('a0.3b1_m-l2_d-l2', 0.6637),\n",
       " ('a0.3b1_m-kl_d-l2', 0.6567),\n",
       " (':a0.5b1_m-kl_d-l2', 0.4984),\n",
       " (':a0.5b1_m-l2_d-l2', 0.06),\n",
       " (':a0.5b1_m-l2_d-kl', 0.0117)]"
      ]
     },
     "metadata": {},
     "output_type": "display_data"
    }
   ],
   "source": [
    "display_jobs(\"R110_func\")"
   ]
  },
  {
   "cell_type": "markdown",
   "id": "f402d70f",
   "metadata": {},
   "source": [
    "## compare augs"
   ]
  },
  {
   "cell_type": "code",
   "execution_count": 61,
   "id": "4937e89f",
   "metadata": {},
   "outputs": [
    {
     "data": {
      "text/plain": [
       "[('a0.3b1_randselect', 0.79),\n",
       " ('a0.5b0.5_randaug', 0.781),\n",
       " ('a0.3b1_randaug', 0.7773),\n",
       " ('a0.3b1_augmix', 0.7743)]"
      ]
     },
     "metadata": {},
     "output_type": "display_data"
    }
   ],
   "source": [
    "display_jobs(\"R110_aug\", res=[('a0.5b0.5_randaug', 0.781),\n",
    "                              ('a0.3b1_randaug', 0.7773)])"
   ]
  },
  {
   "cell_type": "markdown",
   "id": "a5d5fccc",
   "metadata": {},
   "source": [
    "## ablation"
   ]
  },
  {
   "cell_type": "code",
   "execution_count": 78,
   "id": "5c3f8234",
   "metadata": {},
   "outputs": [
    {
     "data": {
      "text/plain": [
       "[('a0b1_randselect', 0.7903),\n",
       " ('a0.3b1_randselect', 0.79),\n",
       " ('a0b0.5_randselect', 0.7867),\n",
       " ('a0.3b0_randselect', 0.7837),\n",
       " ('a0b0_randselect', 0.7801)]"
      ]
     },
     "metadata": {},
     "output_type": "display_data"
    }
   ],
   "source": [
    "display_jobs(\"R110_ablation\", res=[('a0.3b1_randselect', 0.79),\n",
    "                                   ('a0b0_randselect', 0.7801)])"
   ]
  },
  {
   "cell_type": "markdown",
   "id": "20135fd8",
   "metadata": {},
   "source": [
    "## search alpha and beta with rand_select aug"
   ]
  },
  {
   "cell_type": "code",
   "execution_count": 74,
   "id": "3e2bbb66",
   "metadata": {},
   "outputs": [
    {
     "data": {
      "text/plain": [
       "[('a0.3b0.5', 0.7933),\n",
       " ('a0.3b1', 0.79),\n",
       " ('a0.5b1', 0.79),\n",
       " ('a0.3b0.7', 0.7873),\n",
       " ('a0.5b0.5', 0.7869),\n",
       " ('a0.3b1.5', 0.7829),\n",
       " ('a0.5b1.5', 0.7809),\n",
       " ('a0.3b2', 0.7799),\n",
       " ('a1b1', 0.7781),\n",
       " ('a1b2', 0.7704),\n",
       " ('a0.5b2', 0.7699),\n",
       " ('a1b1.5', 0.7698)]"
      ]
     },
     "metadata": {},
     "output_type": "display_data"
    }
   ],
   "source": [
    "display_jobs(\"R110_randselect_search\", res=[(\"a0.3b1\", 0.79),\n",
    "                                            (\"a0.3b1.5\", 0.7829),\n",
    "                                            (\"a0.3b2\", 0.7799),\n",
    "                                            (\"a0.3b0.5\", 0.7933),\n",
    "                                            (\"a0.3b0.7\", 0.7873)])"
   ]
  },
  {
   "cell_type": "code",
   "execution_count": null,
   "id": "69c683dc",
   "metadata": {},
   "outputs": [],
   "source": []
  }
 ],
 "metadata": {
  "kernelspec": {
   "display_name": "Python 3 (ipykernel)",
   "language": "python",
   "name": "python3"
  },
  "language_info": {
   "codemirror_mode": {
    "name": "ipython",
    "version": 3
   },
   "file_extension": ".py",
   "mimetype": "text/x-python",
   "name": "python",
   "nbconvert_exporter": "python",
   "pygments_lexer": "ipython3",
   "version": "3.8.10"
  }
 },
 "nbformat": 4,
 "nbformat_minor": 5
}
